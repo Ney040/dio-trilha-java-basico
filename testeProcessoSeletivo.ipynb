{
  "nbformat": 4,
  "nbformat_minor": 0,
  "metadata": {
    "colab": {
      "provenance": [],
      "toc_visible": true,
      "authorship_tag": "ABX9TyODis1r2x6URNHw16cfd0VA",
      "include_colab_link": true
    },
    "kernelspec": {
      "name": "python3",
      "display_name": "Python 3"
    },
    "language_info": {
      "name": "python"
    }
  },
  "cells": [
    {
      "cell_type": "markdown",
      "metadata": {
        "id": "view-in-github",
        "colab_type": "text"
      },
      "source": [
        "<a href=\"https://colab.research.google.com/github/Ney040/dio-trilha-java-basico/blob/main/testeProcessoSeletivo.ipynb\" target=\"_parent\"><img src=\"https://colab.research.google.com/assets/colab-badge.svg\" alt=\"Open In Colab\"/></a>"
      ]
    },
    {
      "cell_type": "code",
      "execution_count": null,
      "metadata": {
        "colab": {
          "base_uri": "https://localhost:8080/"
        },
        "id": "ikfeq-vVqB7s",
        "outputId": "65f6ebd9-0583-4d7d-9353-c6a56f3d4b90"
      },
      "outputs": [
        {
          "output_type": "stream",
          "name": "stdout",
          "text": [
            "91\n"
          ]
        }
      ],
      "source": [
        " INDICE = 13\n",
        "SOMA = 0\n",
        "K = 0\n",
        "\n",
        "while K < INDICE:\n",
        "    K = K + 1\n",
        "    SOMA = SOMA + K\n",
        "\n",
        "print(SOMA)"
      ]
    },
    {
      "cell_type": "code",
      "source": [
        "def pertence_fibonacci(numero):\n",
        "\n",
        "    if numero < 0:\n",
        "        return False\n",
        "\n",
        "    a, b = 0, 1\n",
        "    while a < numero:\n",
        "        a, b = b, a + b\n",
        "\n",
        "    return a == numero\n",
        "\n",
        "def main():\n",
        "    try:\n",
        "        numero = int(input(\"Informe um número: \"))\n",
        "        if pertence_fibonacci(numero):\n",
        "            print(f\"O número {numero} pertence à sequência de Fibonacci.\")\n",
        "        else:\n",
        "            print(f\"O número {numero} NÃO pertence à sequência de Fibonacci.\")\n",
        "    except ValueError:\n",
        "        print(\"Por favor, informe um número válido.\")\n",
        "\n",
        "if __name__ == \"__main__\":\n",
        "    main()"
      ],
      "metadata": {
        "id": "zcztSWFXql1C"
      },
      "execution_count": null,
      "outputs": []
    },
    {
      "cell_type": "code",
      "source": [
        "import json\n",
        "\n",
        "def carregar_dados_arquivo(nome_arquivo):\n",
        "\n",
        "    with open(nome_arquivo, 'r') as arquivo:\n",
        "        return json.load(arquivo)\n",
        "\n",
        "def calcular_faturamento(dados):\n",
        "\n",
        "    faturamentos = [registro['faturamento'] for registro in dados['faturamento_diario'] if registro['faturamento'] > 0]\n",
        "\n",
        "    if not faturamentos:\n",
        "        return None, None, 0\n",
        "\n",
        "    menor_faturamento = min(faturamentos)\n",
        "    maior_faturamento = max(faturamentos)\n",
        "    media_faturamento = sum(faturamentos) / len(faturamentos)\n",
        "\n",
        "    dias_acima_media = sum(1 for registro in dados['faturamento_diario'] if registro['faturamento'] > media_faturamento)\n",
        "\n",
        "    return menor_faturamento, maior_faturamento, dias_acima_media\n",
        "\n",
        "def main():\n",
        "    nome_arquivo = 'faturamento.json'\n",
        "    dados = carregar_dados_arquivo(nome_arquivo)\n",
        "\n",
        "    menor, maior, dias_acima_media = calcular_faturamento(dados)\n",
        "\n",
        "    if menor is None or maior is None:\n",
        "        print(\"Não há dados de faturamento disponíveis.\")\n",
        "    else:\n",
        "        print(f\"Menor valor de faturamento: R${menor}\")\n",
        "        print(f\"Maior valor de faturamento: R${maior}\")\n",
        "        print(f\"Número de dias com faturamento acima da média: {dias_acima_media}\")\n",
        "\n",
        "if __name__ == \"__main__\":\n",
        "    main()"
      ],
      "metadata": {
        "id": "DCOWWrORvy6M"
      },
      "execution_count": null,
      "outputs": []
    },
    {
      "cell_type": "code",
      "source": [
        "def calcular_percentuais(faturamento_estados):\n",
        "    \"\"\"Calcula o percentual de representação de cada estado no faturamento total.\"\"\"\n",
        "    # Calcula o faturamento total\n",
        "    faturamento_total = sum(faturamento_estados.values())\n",
        "\n",
        "    # Calcula o percentual de cada estado\n",
        "    percentuais = {estado: (valor / faturamento_total) * 100 for estado, valor in faturamento_estados.items()}\n",
        "\n",
        "    return percentuais\n",
        "\n",
        "def main():\n",
        "    # Dados de faturamento por estado\n",
        "    faturamento_estados = {\n",
        "        \"SP\": 67836.43,\n",
        "        \"RJ\": 36678.66,\n",
        "        \"MG\": 29229.88,\n",
        "        \"ES\": 27165.48,\n",
        "        \"Outros\": 19849.53\n",
        "    }\n",
        "\n",
        "    # Calcula os percentuais\n",
        "    percentuais = calcular_percentuais(faturamento_estados)\n",
        "\n",
        "    # Exibe os resultados\n",
        "    print(\"Percentual de representação de cada estado:\")\n",
        "    for estado, percentual in percentuais.items():\n",
        "        print(f\"{estado}: {percentual:.2f}%\")\n",
        "\n",
        "if __name__ == \"__main__\":\n",
        "    main()"
      ],
      "metadata": {
        "id": "YZIk1ZAQwPCI"
      },
      "execution_count": null,
      "outputs": []
    },
    {
      "cell_type": "code",
      "source": [
        "def inverter_string(s):\n",
        "\n",
        "    string_invertida = \"\"\n",
        "    for caractere in s:\n",
        "        string_invertida = caractere + string_invertida\n",
        "    return string_invertida\n",
        "\n",
        "\n",
        "def main():\n",
        "\n",
        "    string_original = input(\"Digite uma string para inverter: \")\n",
        "\n",
        "\n",
        "    string_invertida = inverter_string(string_original)\n",
        "\n",
        "    # Exibe o resultado\n",
        "    print(f\"String original: {string_original}\")\n",
        "    print(f\"String invertida: {string_invertida}\")\n",
        "\n",
        "\n",
        "if __name__ == \"__main__\":\n",
        "    main()"
      ],
      "metadata": {
        "id": "b7NNs2d8xKoy"
      },
      "execution_count": null,
      "outputs": []
    }
  ]
}